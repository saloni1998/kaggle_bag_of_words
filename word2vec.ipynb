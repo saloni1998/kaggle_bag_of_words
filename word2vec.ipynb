{
 "cells": [
  {
   "cell_type": "code",
   "execution_count": 3,
   "metadata": {},
   "outputs": [],
   "source": [
    "import pandas as pd\n",
    "import numpy as np\n",
    "from bs4 import BeautifulSoup\n",
    "import re\n",
    "from nltk.corpus import stopwords"
   ]
  },
  {
   "cell_type": "code",
   "execution_count": 4,
   "metadata": {
    "collapsed": true
   },
   "outputs": [],
   "source": [
    "train=pd.read_csv(\"../BagofWords/labeledTrainData.tsv\",header=0,delimiter=\"\\t\",quoting=3)\n",
    "unlabeled_train=pd.read_csv(\"../BagofWords/unlabeledTrainData.tsv\",header=0,delimiter=\"\\t\",quoting=3)\n",
    "test=pd.read_csv(\"../BagofWords/testData.tsv\",header=0,delimiter=\"\\t\",quoting=3)"
   ]
  },
  {
   "cell_type": "code",
   "execution_count": 20,
   "metadata": {
    "collapsed": true
   },
   "outputs": [],
   "source": [
    "def review_to_words(raw_review,remove_stopwords=False):\n",
    "    # The input is a single string (a raw movie review), and \n",
    "    # the output is a single string (a preprocessed movie review)\n",
    "    #\n",
    "    # 1. Remove HTML\n",
    "    review_text=BeautifulSoup(raw_review).get_text()\n",
    "    #2. Remove non letters\n",
    "    letters_only=re.sub(\"[^a-zA-Z]\",\" \",review_text)\n",
    "    #3. Convert to lower_case and split to individual letters\n",
    "    words=letters_only.lower().split()\n",
    "    \n",
    "    if remove_stopwords:\n",
    "        stops=set(stopwords.words(\"english\"))\n",
    "        words = [w for w in words if not w in stops] \n",
    "    \n",
    "    return words"
   ]
  },
  {
   "cell_type": "markdown",
   "metadata": {},
   "source": [
    " Word2Vec expects single sentences, each one as a list of words."
   ]
  },
  {
   "cell_type": "markdown",
   "metadata": {},
   "source": [
    "We will use NLTK's punkt tokenizer for sentence splitting."
   ]
  },
  {
   "cell_type": "code",
   "execution_count": 21,
   "metadata": {
    "collapsed": true
   },
   "outputs": [],
   "source": [
    "#Function to split a review into parsed sentences. Returns list of sentences, where each sentence is a list of words\n",
    "def review_to_sentence(review,tokenizer,remove_stopwords=False):\n",
    "    # Use the NLTK tokenizer to split the paragraph into sentences\n",
    "        raw_sentences=tokenizer.tokenize(review.strip())\n",
    "        \n",
    "        sentences=[]\n",
    "        for raw_sentence in raw_sentences:\n",
    "            if(len(raw_sentence)>0):\n",
    "                sentences.append(review_to_words(raw_sentence,remove_stopwords))\n",
    "                \n",
    "        return sentences"
   ]
  },
  {
   "cell_type": "code",
   "execution_count": 22,
   "metadata": {
    "collapsed": true
   },
   "outputs": [],
   "source": [
    "def build_dataset(data,tokenizer):\n",
    "    train_reviews=data[\"review\"]\n",
    "    sentences=[]\n",
    "    for review in train_reviews:\n",
    "        sentences+=review_to_sentence(review,tokenizer)\n",
    "    return sentences\n",
    "        "
   ]
  },
  {
   "cell_type": "code",
   "execution_count": 23,
   "metadata": {},
   "outputs": [
    {
     "name": "stderr",
     "output_type": "stream",
     "text": [
      "/home/saloni/anaconda3/lib/python3.6/site-packages/bs4/__init__.py:181: UserWarning: No parser was explicitly specified, so I'm using the best available HTML parser for this system (\"lxml\"). This usually isn't a problem, but if you run this code on another system, or in a different virtual environment, it may use a different parser and behave differently.\n",
      "\n",
      "The code that caused this warning is on line 193 of the file /home/saloni/anaconda3/lib/python3.6/runpy.py. To get rid of this warning, change code that looks like this:\n",
      "\n",
      " BeautifulSoup(YOUR_MARKUP})\n",
      "\n",
      "to this:\n",
      "\n",
      " BeautifulSoup(YOUR_MARKUP, \"lxml\")\n",
      "\n",
      "  markup_type=markup_type))\n",
      "/home/saloni/anaconda3/lib/python3.6/site-packages/bs4/__init__.py:219: UserWarning: \"b'.'\" looks like a filename, not markup. You should probably open this file and pass the filehandle into Beautiful Soup.\n",
      "  ' Beautiful Soup.' % markup)\n",
      "/home/saloni/anaconda3/lib/python3.6/site-packages/bs4/__init__.py:282: UserWarning: \"http://www.happierabroad.com\"\" looks like a URL. Beautiful Soup is not an HTTP client. You should probably use an HTTP client like requests to get the document behind the URL, and feed that document to Beautiful Soup.\n",
      "  ' that document to Beautiful Soup.' % decoded_markup\n",
      "/home/saloni/anaconda3/lib/python3.6/site-packages/bs4/__init__.py:282: UserWarning: \"http://www.archive.org/details/LovefromaStranger\"\" looks like a URL. Beautiful Soup is not an HTTP client. You should probably use an HTTP client like requests to get the document behind the URL, and feed that document to Beautiful Soup.\n",
      "  ' that document to Beautiful Soup.' % decoded_markup\n",
      "/home/saloni/anaconda3/lib/python3.6/site-packages/bs4/__init__.py:282: UserWarning: \"http://www.loosechangeguide.com/LooseChangeGuide.html\"\" looks like a URL. Beautiful Soup is not an HTTP client. You should probably use an HTTP client like requests to get the document behind the URL, and feed that document to Beautiful Soup.\n",
      "  ' that document to Beautiful Soup.' % decoded_markup\n",
      "/home/saloni/anaconda3/lib/python3.6/site-packages/bs4/__init__.py:282: UserWarning: \"http://www.msnbc.msn.com/id/4972055/site/newsweek/\"\" looks like a URL. Beautiful Soup is not an HTTP client. You should probably use an HTTP client like requests to get the document behind the URL, and feed that document to Beautiful Soup.\n",
      "  ' that document to Beautiful Soup.' % decoded_markup\n",
      "/home/saloni/anaconda3/lib/python3.6/site-packages/bs4/__init__.py:219: UserWarning: \"b'..'\" looks like a filename, not markup. You should probably open this file and pass the filehandle into Beautiful Soup.\n",
      "  ' Beautiful Soup.' % markup)\n",
      "/home/saloni/anaconda3/lib/python3.6/site-packages/bs4/__init__.py:282: UserWarning: \"http://www.youtube.com/watch?v=a0KSqelmgN8\"\" looks like a URL. Beautiful Soup is not an HTTP client. You should probably use an HTTP client like requests to get the document behind the URL, and feed that document to Beautiful Soup.\n",
      "  ' that document to Beautiful Soup.' % decoded_markup\n",
      "/home/saloni/anaconda3/lib/python3.6/site-packages/bs4/__init__.py:282: UserWarning: \"http://jake-weird.blogspot.com/2007/08/beneath.html\"\" looks like a URL. Beautiful Soup is not an HTTP client. You should probably use an HTTP client like requests to get the document behind the URL, and feed that document to Beautiful Soup.\n",
      "  ' that document to Beautiful Soup.' % decoded_markup\n"
     ]
    }
   ],
   "source": [
    "import nltk\n",
    "tokenizer=nltk.data.load('tokenizers/punkt/english.pickle')\n",
    "labeled_sentences=build_dataset(train,tokenizer)\n",
    "unlabeled_sentences=build_dataset(unlabeled_train,tokenizer)\n",
    "sentences=labeled_sentences+unlabeled_sentences"
   ]
  },
  {
   "cell_type": "markdown",
   "metadata": {},
   "source": [
    "<b> Hyperparameters for word2vec </b>\n",
    "<p>Architecture: Architecture options are skip-gram (default) or continuous bag of words. We found that skip-gram was very slightly slower but produced better results.</p>\n",
    "<p>Training algorithm: Hierarchical softmax (default) or negative sampling. For us, the default worked well.</p>\n",
    "<p>Downsampling of frequent words: The Google documentation recommends values between .00001 and .001. For us, values closer 0.001 seemed to improve the accuracy of the final model.</p>\n",
    "<p>Word vector dimensionality: More features result in longer runtimes, and often, but not always, result in better models. Reasonable values can be in the tens to hundreds; we used 300.</p>\n",
    "<p>Context / window size: How many words of context should the training algorithm take into account? 10 seems to work well for hierarchical softmax (more is better, up to a point).</p>\n",
    "<p>Worker threads: Number of parallel processes to run. This is computer-specific, but between 4 and 6 should work on most systems.</p>\n",
    "<p>Minimum word count: This helps limit the size of the vocabulary to meaningful words. Any word that does not occur at least this many times across all documents is ignored. Reasonable values could be between 10 and 100. In this case, since each movie occurs 30 times, we set the minimum word count to 40, to avoid attaching too much importance to individual movie titles. This resulted in an overall vocabulary size of around 15,000 words. Higher values also help limit run time.<p>"
   ]
  },
  {
   "cell_type": "code",
   "execution_count": 24,
   "metadata": {
    "collapsed": true
   },
   "outputs": [],
   "source": [
    "# Import the built-in logging module and configure it so that Word2Vec creates nice output messages\n",
    "import logging\n",
    "logging.basicConfig(format='%(asctime)s : %(levelname)s : %(message)s',\\\n",
    "    level=logging.INFO)"
   ]
  },
  {
   "cell_type": "code",
   "execution_count": 25,
   "metadata": {
    "collapsed": true
   },
   "outputs": [],
   "source": [
    "#set values for various parameters\n",
    "num_features=300     # Word vector dimensionality                      \n",
    "min_word_count = 40   # Minimum word count                        \n",
    "num_workers = 4       # Number of threads to run in parallel\n",
    "context = 10          # Context window size                                                                                    \n",
    "downsampling = 1e-3   # Downsample setting for frequent words\n"
   ]
  },
  {
   "cell_type": "code",
   "execution_count": 26,
   "metadata": {
    "scrolled": false
   },
   "outputs": [
    {
     "name": "stderr",
     "output_type": "stream",
     "text": [
      "2018-01-11 07:33:43,372 : INFO : collecting all words and their counts\n",
      "2018-01-11 07:33:43,375 : INFO : PROGRESS: at sentence #0, processed 0 words, keeping 0 word types\n",
      "2018-01-11 07:33:43,440 : INFO : PROGRESS: at sentence #10000, processed 225803 words, keeping 17776 word types\n",
      "2018-01-11 07:33:43,489 : INFO : PROGRESS: at sentence #20000, processed 451892 words, keeping 24948 word types\n",
      "2018-01-11 07:33:43,537 : INFO : PROGRESS: at sentence #30000, processed 671315 words, keeping 30034 word types\n"
     ]
    },
    {
     "name": "stdout",
     "output_type": "stream",
     "text": [
      "training model..\n"
     ]
    },
    {
     "name": "stderr",
     "output_type": "stream",
     "text": [
      "2018-01-11 07:33:43,586 : INFO : PROGRESS: at sentence #40000, processed 897815 words, keeping 34348 word types\n",
      "2018-01-11 07:33:43,648 : INFO : PROGRESS: at sentence #50000, processed 1116963 words, keeping 37761 word types\n",
      "2018-01-11 07:33:43,709 : INFO : PROGRESS: at sentence #60000, processed 1338404 words, keeping 40723 word types\n",
      "2018-01-11 07:33:43,772 : INFO : PROGRESS: at sentence #70000, processed 1561580 words, keeping 43333 word types\n",
      "2018-01-11 07:33:43,831 : INFO : PROGRESS: at sentence #80000, processed 1780887 words, keeping 45714 word types\n",
      "2018-01-11 07:33:43,898 : INFO : PROGRESS: at sentence #90000, processed 2004996 words, keeping 48135 word types\n",
      "2018-01-11 07:33:43,959 : INFO : PROGRESS: at sentence #100000, processed 2226966 words, keeping 50207 word types\n",
      "2018-01-11 07:33:44,017 : INFO : PROGRESS: at sentence #110000, processed 2446580 words, keeping 52081 word types\n",
      "2018-01-11 07:33:44,076 : INFO : PROGRESS: at sentence #120000, processed 2668775 words, keeping 54119 word types\n",
      "2018-01-11 07:33:44,135 : INFO : PROGRESS: at sentence #130000, processed 2894303 words, keeping 55847 word types\n",
      "2018-01-11 07:33:44,192 : INFO : PROGRESS: at sentence #140000, processed 3107005 words, keeping 57346 word types\n",
      "2018-01-11 07:33:44,244 : INFO : PROGRESS: at sentence #150000, processed 3332627 words, keeping 59055 word types\n",
      "2018-01-11 07:33:44,315 : INFO : PROGRESS: at sentence #160000, processed 3555315 words, keeping 60617 word types\n",
      "2018-01-11 07:33:44,371 : INFO : PROGRESS: at sentence #170000, processed 3778655 words, keeping 62077 word types\n",
      "2018-01-11 07:33:44,426 : INFO : PROGRESS: at sentence #180000, processed 3999236 words, keeping 63496 word types\n",
      "2018-01-11 07:33:44,489 : INFO : PROGRESS: at sentence #190000, processed 4224449 words, keeping 64794 word types\n",
      "2018-01-11 07:33:44,547 : INFO : PROGRESS: at sentence #200000, processed 4448603 words, keeping 66087 word types\n",
      "2018-01-11 07:33:44,611 : INFO : PROGRESS: at sentence #210000, processed 4669967 words, keeping 67390 word types\n",
      "2018-01-11 07:33:44,670 : INFO : PROGRESS: at sentence #220000, processed 4894968 words, keeping 68697 word types\n",
      "2018-01-11 07:33:44,728 : INFO : PROGRESS: at sentence #230000, processed 5117545 words, keeping 69958 word types\n",
      "2018-01-11 07:33:44,787 : INFO : PROGRESS: at sentence #240000, processed 5345050 words, keeping 71167 word types\n",
      "2018-01-11 07:33:44,845 : INFO : PROGRESS: at sentence #250000, processed 5559165 words, keeping 72351 word types\n",
      "2018-01-11 07:33:44,903 : INFO : PROGRESS: at sentence #260000, processed 5779146 words, keeping 73478 word types\n",
      "2018-01-11 07:33:44,959 : INFO : PROGRESS: at sentence #270000, processed 6000435 words, keeping 74767 word types\n",
      "2018-01-11 07:33:45,033 : INFO : PROGRESS: at sentence #280000, processed 6226314 words, keeping 76369 word types\n",
      "2018-01-11 07:33:45,099 : INFO : PROGRESS: at sentence #290000, processed 6449474 words, keeping 77839 word types\n",
      "2018-01-11 07:33:45,164 : INFO : PROGRESS: at sentence #300000, processed 6674077 words, keeping 79171 word types\n",
      "2018-01-11 07:33:45,227 : INFO : PROGRESS: at sentence #310000, processed 6899391 words, keeping 80480 word types\n",
      "2018-01-11 07:33:45,285 : INFO : PROGRESS: at sentence #320000, processed 7124278 words, keeping 81808 word types\n",
      "2018-01-11 07:33:45,346 : INFO : PROGRESS: at sentence #330000, processed 7346021 words, keeping 83030 word types\n",
      "2018-01-11 07:33:45,410 : INFO : PROGRESS: at sentence #340000, processed 7575533 words, keeping 84280 word types\n",
      "2018-01-11 07:33:45,474 : INFO : PROGRESS: at sentence #350000, processed 7798803 words, keeping 85425 word types\n",
      "2018-01-11 07:33:45,542 : INFO : PROGRESS: at sentence #360000, processed 8019427 words, keeping 86596 word types\n",
      "2018-01-11 07:33:45,605 : INFO : PROGRESS: at sentence #370000, processed 8246619 words, keeping 87708 word types\n",
      "2018-01-11 07:33:45,663 : INFO : PROGRESS: at sentence #380000, processed 8471766 words, keeping 88878 word types\n",
      "2018-01-11 07:33:45,734 : INFO : PROGRESS: at sentence #390000, processed 8701497 words, keeping 89907 word types\n",
      "2018-01-11 07:33:45,790 : INFO : PROGRESS: at sentence #400000, processed 8924446 words, keeping 90916 word types\n",
      "2018-01-11 07:33:45,856 : INFO : PROGRESS: at sentence #410000, processed 9145796 words, keeping 91880 word types\n",
      "2018-01-11 07:33:45,913 : INFO : PROGRESS: at sentence #420000, processed 9366876 words, keeping 92912 word types\n",
      "2018-01-11 07:33:45,980 : INFO : PROGRESS: at sentence #430000, processed 9594413 words, keeping 93932 word types\n",
      "2018-01-11 07:33:46,038 : INFO : PROGRESS: at sentence #440000, processed 9821166 words, keeping 94906 word types\n",
      "2018-01-11 07:33:46,100 : INFO : PROGRESS: at sentence #450000, processed 10044928 words, keeping 96036 word types\n",
      "2018-01-11 07:33:46,171 : INFO : PROGRESS: at sentence #460000, processed 10277688 words, keeping 97088 word types\n",
      "2018-01-11 07:33:46,225 : INFO : PROGRESS: at sentence #470000, processed 10505613 words, keeping 97933 word types\n",
      "2018-01-11 07:33:46,290 : INFO : PROGRESS: at sentence #480000, processed 10725997 words, keeping 98862 word types\n",
      "2018-01-11 07:33:46,358 : INFO : PROGRESS: at sentence #490000, processed 10952741 words, keeping 99871 word types\n",
      "2018-01-11 07:33:46,436 : INFO : PROGRESS: at sentence #500000, processed 11174397 words, keeping 100765 word types\n",
      "2018-01-11 07:33:46,518 : INFO : PROGRESS: at sentence #510000, processed 11399672 words, keeping 101699 word types\n",
      "2018-01-11 07:33:46,602 : INFO : PROGRESS: at sentence #520000, processed 11623020 words, keeping 102598 word types\n",
      "2018-01-11 07:33:46,679 : INFO : PROGRESS: at sentence #530000, processed 11847418 words, keeping 103400 word types\n",
      "2018-01-11 07:33:46,738 : INFO : PROGRESS: at sentence #540000, processed 12072033 words, keeping 104265 word types\n",
      "2018-01-11 07:33:46,804 : INFO : PROGRESS: at sentence #550000, processed 12297571 words, keeping 105133 word types\n",
      "2018-01-11 07:33:46,864 : INFO : PROGRESS: at sentence #560000, processed 12518861 words, keeping 105997 word types\n",
      "2018-01-11 07:33:46,926 : INFO : PROGRESS: at sentence #570000, processed 12747916 words, keeping 106787 word types\n",
      "2018-01-11 07:33:46,982 : INFO : PROGRESS: at sentence #580000, processed 12969412 words, keeping 107665 word types\n",
      "2018-01-11 07:33:47,051 : INFO : PROGRESS: at sentence #590000, processed 13194937 words, keeping 108501 word types\n",
      "2018-01-11 07:33:47,110 : INFO : PROGRESS: at sentence #600000, processed 13417135 words, keeping 109218 word types\n",
      "2018-01-11 07:33:47,179 : INFO : PROGRESS: at sentence #610000, processed 13638158 words, keeping 110092 word types\n",
      "2018-01-11 07:33:47,256 : INFO : PROGRESS: at sentence #620000, processed 13864483 words, keeping 110837 word types\n",
      "2018-01-11 07:33:47,351 : INFO : PROGRESS: at sentence #630000, processed 14088769 words, keeping 111610 word types\n",
      "2018-01-11 07:33:47,434 : INFO : PROGRESS: at sentence #640000, processed 14309552 words, keeping 112416 word types\n",
      "2018-01-11 07:33:47,496 : INFO : PROGRESS: at sentence #650000, processed 14535308 words, keeping 113196 word types\n",
      "2018-01-11 07:33:47,556 : INFO : PROGRESS: at sentence #660000, processed 14758098 words, keeping 113945 word types\n",
      "2018-01-11 07:33:47,613 : INFO : PROGRESS: at sentence #670000, processed 14981482 words, keeping 114643 word types\n",
      "2018-01-11 07:33:47,677 : INFO : PROGRESS: at sentence #680000, processed 15206314 words, keeping 115354 word types\n",
      "2018-01-11 07:33:47,734 : INFO : PROGRESS: at sentence #690000, processed 15428507 words, keeping 116131 word types\n",
      "2018-01-11 07:33:47,844 : INFO : PROGRESS: at sentence #700000, processed 15657213 words, keeping 116943 word types\n",
      "2018-01-11 07:33:47,930 : INFO : PROGRESS: at sentence #710000, processed 15880202 words, keeping 117596 word types\n",
      "2018-01-11 07:33:48,007 : INFO : PROGRESS: at sentence #720000, processed 16105489 words, keeping 118221 word types\n",
      "2018-01-11 07:33:48,077 : INFO : PROGRESS: at sentence #730000, processed 16331870 words, keeping 118954 word types\n",
      "2018-01-11 07:33:48,137 : INFO : PROGRESS: at sentence #740000, processed 16552903 words, keeping 119668 word types\n",
      "2018-01-11 07:33:48,210 : INFO : PROGRESS: at sentence #750000, processed 16771230 words, keeping 120295 word types\n"
     ]
    },
    {
     "name": "stderr",
     "output_type": "stream",
     "text": [
      "2018-01-11 07:33:48,281 : INFO : PROGRESS: at sentence #760000, processed 16990622 words, keeping 120930 word types\n",
      "2018-01-11 07:33:48,365 : INFO : PROGRESS: at sentence #770000, processed 17217759 words, keeping 121703 word types\n",
      "2018-01-11 07:33:48,427 : INFO : PROGRESS: at sentence #780000, processed 17447905 words, keeping 122402 word types\n",
      "2018-01-11 07:33:48,487 : INFO : PROGRESS: at sentence #790000, processed 17674981 words, keeping 123066 word types\n",
      "2018-01-11 07:33:48,518 : INFO : collected 123504 word types from a corpus of 17798082 raw words and 795538 sentences\n",
      "2018-01-11 07:33:48,519 : INFO : Loading a fresh vocabulary\n",
      "2018-01-11 07:33:49,782 : INFO : min_count=40 retains 16490 unique words (13% of original 123504, drops 107014)\n",
      "2018-01-11 07:33:49,783 : INFO : min_count=40 leaves 17238940 word corpus (96% of original 17798082, drops 559142)\n",
      "2018-01-11 07:33:49,902 : INFO : deleting the raw counts dictionary of 123504 items\n",
      "2018-01-11 07:33:49,908 : INFO : sample=0.001 downsamples 48 most-common words\n",
      "2018-01-11 07:33:49,911 : INFO : downsampling leaves estimated 12749658 word corpus (74.0% of prior 17238940)\n",
      "2018-01-11 07:33:49,913 : INFO : estimated required memory for 16490 words and 300 dimensions: 47821000 bytes\n",
      "2018-01-11 07:33:50,015 : INFO : resetting layer weights\n",
      "2018-01-11 07:33:50,289 : INFO : training model with 4 workers on 16490 vocabulary and 300 features, using sg=0 hs=0 sample=0.001 negative=5 window=10\n",
      "2018-01-11 07:33:51,320 : INFO : PROGRESS: at 0.73% examples, 458466 words/s, in_qsize 7, out_qsize 0\n",
      "2018-01-11 07:33:52,331 : INFO : PROGRESS: at 1.46% examples, 458776 words/s, in_qsize 7, out_qsize 0\n",
      "2018-01-11 07:33:53,337 : INFO : PROGRESS: at 2.31% examples, 483568 words/s, in_qsize 7, out_qsize 0\n",
      "2018-01-11 07:33:54,341 : INFO : PROGRESS: at 3.05% examples, 478579 words/s, in_qsize 7, out_qsize 0\n",
      "2018-01-11 07:33:55,349 : INFO : PROGRESS: at 3.92% examples, 492093 words/s, in_qsize 7, out_qsize 0\n",
      "2018-01-11 07:33:56,351 : INFO : PROGRESS: at 4.79% examples, 501740 words/s, in_qsize 7, out_qsize 0\n",
      "2018-01-11 07:33:57,353 : INFO : PROGRESS: at 5.56% examples, 500269 words/s, in_qsize 7, out_qsize 0\n",
      "2018-01-11 07:33:58,363 : INFO : PROGRESS: at 6.30% examples, 495246 words/s, in_qsize 7, out_qsize 0\n",
      "2018-01-11 07:33:59,364 : INFO : PROGRESS: at 7.17% examples, 501232 words/s, in_qsize 7, out_qsize 0\n",
      "2018-01-11 07:34:00,370 : INFO : PROGRESS: at 8.00% examples, 504403 words/s, in_qsize 7, out_qsize 0\n",
      "2018-01-11 07:34:01,396 : INFO : PROGRESS: at 8.88% examples, 508058 words/s, in_qsize 7, out_qsize 0\n",
      "2018-01-11 07:34:02,396 : INFO : PROGRESS: at 9.73% examples, 511575 words/s, in_qsize 7, out_qsize 0\n",
      "2018-01-11 07:34:03,407 : INFO : PROGRESS: at 10.60% examples, 514138 words/s, in_qsize 7, out_qsize 0\n",
      "2018-01-11 07:34:04,411 : INFO : PROGRESS: at 11.44% examples, 516000 words/s, in_qsize 7, out_qsize 0\n",
      "2018-01-11 07:34:05,413 : INFO : PROGRESS: at 12.29% examples, 518231 words/s, in_qsize 7, out_qsize 0\n",
      "2018-01-11 07:34:06,428 : INFO : PROGRESS: at 13.10% examples, 517549 words/s, in_qsize 7, out_qsize 0\n",
      "2018-01-11 07:34:07,428 : INFO : PROGRESS: at 13.95% examples, 519075 words/s, in_qsize 7, out_qsize 0\n",
      "2018-01-11 07:34:08,444 : INFO : PROGRESS: at 14.78% examples, 519187 words/s, in_qsize 7, out_qsize 0\n",
      "2018-01-11 07:34:09,447 : INFO : PROGRESS: at 15.64% examples, 520741 words/s, in_qsize 6, out_qsize 1\n",
      "2018-01-11 07:34:10,464 : INFO : PROGRESS: at 16.52% examples, 522103 words/s, in_qsize 7, out_qsize 0\n",
      "2018-01-11 07:34:11,467 : INFO : PROGRESS: at 17.27% examples, 520020 words/s, in_qsize 7, out_qsize 0\n",
      "2018-01-11 07:34:12,495 : INFO : PROGRESS: at 18.08% examples, 519450 words/s, in_qsize 7, out_qsize 0\n",
      "2018-01-11 07:34:13,509 : INFO : PROGRESS: at 18.97% examples, 520777 words/s, in_qsize 7, out_qsize 0\n",
      "2018-01-11 07:34:14,514 : INFO : PROGRESS: at 19.82% examples, 521930 words/s, in_qsize 6, out_qsize 1\n",
      "2018-01-11 07:34:15,525 : INFO : PROGRESS: at 20.70% examples, 523137 words/s, in_qsize 7, out_qsize 0\n",
      "2018-01-11 07:34:16,537 : INFO : PROGRESS: at 21.58% examples, 524192 words/s, in_qsize 7, out_qsize 0\n",
      "2018-01-11 07:34:17,539 : INFO : PROGRESS: at 22.45% examples, 525153 words/s, in_qsize 7, out_qsize 0\n",
      "2018-01-11 07:34:18,555 : INFO : PROGRESS: at 23.32% examples, 525763 words/s, in_qsize 7, out_qsize 0\n",
      "2018-01-11 07:34:19,560 : INFO : PROGRESS: at 24.20% examples, 526765 words/s, in_qsize 7, out_qsize 0\n",
      "2018-01-11 07:34:20,564 : INFO : PROGRESS: at 25.07% examples, 527492 words/s, in_qsize 7, out_qsize 0\n",
      "2018-01-11 07:34:21,571 : INFO : PROGRESS: at 25.93% examples, 528106 words/s, in_qsize 7, out_qsize 0\n",
      "2018-01-11 07:34:22,583 : INFO : PROGRESS: at 26.82% examples, 528806 words/s, in_qsize 7, out_qsize 0\n",
      "2018-01-11 07:34:23,599 : INFO : PROGRESS: at 27.69% examples, 529406 words/s, in_qsize 7, out_qsize 0\n",
      "2018-01-11 07:34:24,606 : INFO : PROGRESS: at 28.55% examples, 529921 words/s, in_qsize 7, out_qsize 0\n",
      "2018-01-11 07:34:25,611 : INFO : PROGRESS: at 29.40% examples, 530218 words/s, in_qsize 7, out_qsize 0\n",
      "2018-01-11 07:34:26,619 : INFO : PROGRESS: at 30.26% examples, 530677 words/s, in_qsize 7, out_qsize 0\n",
      "2018-01-11 07:34:27,632 : INFO : PROGRESS: at 31.13% examples, 531222 words/s, in_qsize 7, out_qsize 0\n",
      "2018-01-11 07:34:28,636 : INFO : PROGRESS: at 31.97% examples, 531458 words/s, in_qsize 8, out_qsize 0\n",
      "2018-01-11 07:34:29,649 : INFO : PROGRESS: at 32.85% examples, 531965 words/s, in_qsize 7, out_qsize 0\n",
      "2018-01-11 07:34:30,658 : INFO : PROGRESS: at 33.71% examples, 532301 words/s, in_qsize 7, out_qsize 0\n",
      "2018-01-11 07:34:31,663 : INFO : PROGRESS: at 34.58% examples, 532846 words/s, in_qsize 7, out_qsize 0\n",
      "2018-01-11 07:34:32,667 : INFO : PROGRESS: at 35.44% examples, 533222 words/s, in_qsize 7, out_qsize 0\n",
      "2018-01-11 07:34:33,679 : INFO : PROGRESS: at 36.31% examples, 533481 words/s, in_qsize 7, out_qsize 0\n",
      "2018-01-11 07:34:34,682 : INFO : PROGRESS: at 37.17% examples, 533840 words/s, in_qsize 7, out_qsize 0\n",
      "2018-01-11 07:34:35,683 : INFO : PROGRESS: at 38.01% examples, 534033 words/s, in_qsize 7, out_qsize 0\n",
      "2018-01-11 07:34:36,687 : INFO : PROGRESS: at 38.88% examples, 534198 words/s, in_qsize 7, out_qsize 0\n",
      "2018-01-11 07:34:37,692 : INFO : PROGRESS: at 39.73% examples, 534492 words/s, in_qsize 7, out_qsize 0\n",
      "2018-01-11 07:34:38,700 : INFO : PROGRESS: at 40.61% examples, 534891 words/s, in_qsize 7, out_qsize 0\n",
      "2018-01-11 07:34:39,704 : INFO : PROGRESS: at 41.47% examples, 535155 words/s, in_qsize 7, out_qsize 0\n",
      "2018-01-11 07:34:40,717 : INFO : PROGRESS: at 42.35% examples, 535319 words/s, in_qsize 7, out_qsize 0\n",
      "2018-01-11 07:34:41,719 : INFO : PROGRESS: at 43.21% examples, 535622 words/s, in_qsize 7, out_qsize 0\n",
      "2018-01-11 07:34:42,721 : INFO : PROGRESS: at 44.09% examples, 535879 words/s, in_qsize 7, out_qsize 0\n",
      "2018-01-11 07:34:43,724 : INFO : PROGRESS: at 44.96% examples, 536131 words/s, in_qsize 7, out_qsize 0\n",
      "2018-01-11 07:34:44,726 : INFO : PROGRESS: at 45.82% examples, 536374 words/s, in_qsize 7, out_qsize 0\n",
      "2018-01-11 07:34:45,727 : INFO : PROGRESS: at 46.70% examples, 536610 words/s, in_qsize 7, out_qsize 0\n",
      "2018-01-11 07:34:46,753 : INFO : PROGRESS: at 47.57% examples, 536743 words/s, in_qsize 6, out_qsize 1\n",
      "2018-01-11 07:34:47,756 : INFO : PROGRESS: at 48.43% examples, 536956 words/s, in_qsize 7, out_qsize 0\n",
      "2018-01-11 07:34:48,764 : INFO : PROGRESS: at 49.29% examples, 537110 words/s, in_qsize 7, out_qsize 0\n",
      "2018-01-11 07:34:49,772 : INFO : PROGRESS: at 50.15% examples, 537259 words/s, in_qsize 7, out_qsize 0\n",
      "2018-01-11 07:34:50,776 : INFO : PROGRESS: at 51.01% examples, 537438 words/s, in_qsize 7, out_qsize 0\n",
      "2018-01-11 07:34:51,782 : INFO : PROGRESS: at 51.87% examples, 537720 words/s, in_qsize 7, out_qsize 0\n",
      "2018-01-11 07:34:52,787 : INFO : PROGRESS: at 52.72% examples, 537755 words/s, in_qsize 7, out_qsize 0\n",
      "2018-01-11 07:34:53,795 : INFO : PROGRESS: at 53.58% examples, 537899 words/s, in_qsize 7, out_qsize 0\n",
      "2018-01-11 07:34:54,804 : INFO : PROGRESS: at 54.44% examples, 538019 words/s, in_qsize 8, out_qsize 1\n",
      "2018-01-11 07:34:55,813 : INFO : PROGRESS: at 55.32% examples, 538256 words/s, in_qsize 7, out_qsize 0\n",
      "2018-01-11 07:34:56,819 : INFO : PROGRESS: at 56.19% examples, 538380 words/s, in_qsize 7, out_qsize 0\n"
     ]
    },
    {
     "name": "stderr",
     "output_type": "stream",
     "text": [
      "2018-01-11 07:34:57,830 : INFO : PROGRESS: at 57.05% examples, 538473 words/s, in_qsize 7, out_qsize 0\n",
      "2018-01-11 07:34:58,853 : INFO : PROGRESS: at 57.93% examples, 538676 words/s, in_qsize 7, out_qsize 0\n",
      "2018-01-11 07:34:59,854 : INFO : PROGRESS: at 58.78% examples, 538741 words/s, in_qsize 7, out_qsize 0\n",
      "2018-01-11 07:35:00,855 : INFO : PROGRESS: at 59.65% examples, 538894 words/s, in_qsize 7, out_qsize 0\n",
      "2018-01-11 07:35:01,862 : INFO : PROGRESS: at 60.51% examples, 539108 words/s, in_qsize 7, out_qsize 0\n",
      "2018-01-11 07:35:02,871 : INFO : PROGRESS: at 61.39% examples, 539294 words/s, in_qsize 7, out_qsize 0\n",
      "2018-01-11 07:35:03,898 : INFO : PROGRESS: at 62.28% examples, 539340 words/s, in_qsize 7, out_qsize 0\n",
      "2018-01-11 07:35:04,907 : INFO : PROGRESS: at 63.16% examples, 539540 words/s, in_qsize 7, out_qsize 0\n",
      "2018-01-11 07:35:05,918 : INFO : PROGRESS: at 64.04% examples, 539689 words/s, in_qsize 7, out_qsize 0\n",
      "2018-01-11 07:35:06,926 : INFO : PROGRESS: at 64.90% examples, 539696 words/s, in_qsize 7, out_qsize 0\n",
      "2018-01-11 07:35:07,940 : INFO : PROGRESS: at 65.78% examples, 539813 words/s, in_qsize 6, out_qsize 1\n",
      "2018-01-11 07:35:08,941 : INFO : PROGRESS: at 66.67% examples, 540033 words/s, in_qsize 7, out_qsize 0\n",
      "2018-01-11 07:35:09,969 : INFO : PROGRESS: at 67.54% examples, 540062 words/s, in_qsize 8, out_qsize 0\n",
      "2018-01-11 07:35:10,980 : INFO : PROGRESS: at 68.41% examples, 540214 words/s, in_qsize 7, out_qsize 0\n",
      "2018-01-11 07:35:11,991 : INFO : PROGRESS: at 69.27% examples, 540264 words/s, in_qsize 7, out_qsize 0\n",
      "2018-01-11 07:35:12,995 : INFO : PROGRESS: at 70.12% examples, 540368 words/s, in_qsize 7, out_qsize 0\n",
      "2018-01-11 07:35:14,012 : INFO : PROGRESS: at 70.95% examples, 540117 words/s, in_qsize 6, out_qsize 1\n",
      "2018-01-11 07:35:15,014 : INFO : PROGRESS: at 71.72% examples, 539554 words/s, in_qsize 7, out_qsize 0\n",
      "2018-01-11 07:35:16,014 : INFO : PROGRESS: at 72.55% examples, 539519 words/s, in_qsize 7, out_qsize 0\n",
      "2018-01-11 07:35:17,022 : INFO : PROGRESS: at 73.41% examples, 539600 words/s, in_qsize 7, out_qsize 0\n",
      "2018-01-11 07:35:18,024 : INFO : PROGRESS: at 74.28% examples, 539711 words/s, in_qsize 7, out_qsize 0\n",
      "2018-01-11 07:35:19,038 : INFO : PROGRESS: at 75.16% examples, 539911 words/s, in_qsize 7, out_qsize 0\n",
      "2018-01-11 07:35:20,052 : INFO : PROGRESS: at 76.02% examples, 539869 words/s, in_qsize 7, out_qsize 0\n",
      "2018-01-11 07:35:21,065 : INFO : PROGRESS: at 76.89% examples, 539994 words/s, in_qsize 7, out_qsize 0\n",
      "2018-01-11 07:35:22,065 : INFO : PROGRESS: at 77.75% examples, 540100 words/s, in_qsize 7, out_qsize 0\n",
      "2018-01-11 07:35:23,068 : INFO : PROGRESS: at 78.60% examples, 540123 words/s, in_qsize 7, out_qsize 0\n",
      "2018-01-11 07:35:24,068 : INFO : PROGRESS: at 79.47% examples, 540235 words/s, in_qsize 7, out_qsize 0\n",
      "2018-01-11 07:35:25,087 : INFO : PROGRESS: at 80.33% examples, 540315 words/s, in_qsize 7, out_qsize 0\n",
      "2018-01-11 07:35:26,096 : INFO : PROGRESS: at 81.20% examples, 540369 words/s, in_qsize 7, out_qsize 0\n",
      "2018-01-11 07:35:27,099 : INFO : PROGRESS: at 82.07% examples, 540454 words/s, in_qsize 7, out_qsize 0\n",
      "2018-01-11 07:35:28,106 : INFO : PROGRESS: at 82.95% examples, 540522 words/s, in_qsize 7, out_qsize 0\n",
      "2018-01-11 07:35:29,106 : INFO : PROGRESS: at 83.82% examples, 540622 words/s, in_qsize 7, out_qsize 0\n",
      "2018-01-11 07:35:30,109 : INFO : PROGRESS: at 84.69% examples, 540709 words/s, in_qsize 7, out_qsize 0\n",
      "2018-01-11 07:35:31,118 : INFO : PROGRESS: at 85.55% examples, 540753 words/s, in_qsize 7, out_qsize 0\n",
      "2018-01-11 07:35:32,121 : INFO : PROGRESS: at 86.43% examples, 540833 words/s, in_qsize 7, out_qsize 0\n",
      "2018-01-11 07:35:33,138 : INFO : PROGRESS: at 87.30% examples, 540904 words/s, in_qsize 7, out_qsize 0\n",
      "2018-01-11 07:35:34,143 : INFO : PROGRESS: at 88.16% examples, 540976 words/s, in_qsize 7, out_qsize 0\n",
      "2018-01-11 07:35:35,151 : INFO : PROGRESS: at 89.02% examples, 541029 words/s, in_qsize 7, out_qsize 0\n",
      "2018-01-11 07:35:36,152 : INFO : PROGRESS: at 89.88% examples, 541114 words/s, in_qsize 7, out_qsize 0\n",
      "2018-01-11 07:35:37,155 : INFO : PROGRESS: at 90.73% examples, 541117 words/s, in_qsize 7, out_qsize 0\n",
      "2018-01-11 07:35:38,160 : INFO : PROGRESS: at 91.58% examples, 541176 words/s, in_qsize 7, out_qsize 0\n",
      "2018-01-11 07:35:39,168 : INFO : PROGRESS: at 92.44% examples, 541224 words/s, in_qsize 7, out_qsize 0\n",
      "2018-01-11 07:35:40,181 : INFO : PROGRESS: at 93.30% examples, 541245 words/s, in_qsize 6, out_qsize 1\n",
      "2018-01-11 07:35:41,189 : INFO : PROGRESS: at 94.18% examples, 541357 words/s, in_qsize 7, out_qsize 0\n",
      "2018-01-11 07:35:42,192 : INFO : PROGRESS: at 95.04% examples, 541429 words/s, in_qsize 7, out_qsize 0\n",
      "2018-01-11 07:35:43,200 : INFO : PROGRESS: at 95.90% examples, 541471 words/s, in_qsize 7, out_qsize 0\n",
      "2018-01-11 07:35:44,208 : INFO : PROGRESS: at 96.77% examples, 541514 words/s, in_qsize 7, out_qsize 0\n",
      "2018-01-11 07:35:45,218 : INFO : PROGRESS: at 97.63% examples, 541545 words/s, in_qsize 7, out_qsize 0\n",
      "2018-01-11 07:35:46,220 : INFO : PROGRESS: at 98.49% examples, 541613 words/s, in_qsize 7, out_qsize 0\n",
      "2018-01-11 07:35:47,226 : INFO : PROGRESS: at 99.36% examples, 541658 words/s, in_qsize 7, out_qsize 0\n",
      "2018-01-11 07:35:47,931 : INFO : worker thread finished; awaiting finish of 3 more threads\n",
      "2018-01-11 07:35:47,944 : INFO : worker thread finished; awaiting finish of 2 more threads\n",
      "2018-01-11 07:35:47,969 : INFO : worker thread finished; awaiting finish of 1 more threads\n",
      "2018-01-11 07:35:47,977 : INFO : worker thread finished; awaiting finish of 0 more threads\n",
      "2018-01-11 07:35:47,979 : INFO : training on 88990410 raw words (63745130 effective words) took 117.7s, 541719 effective words/s\n"
     ]
    }
   ],
   "source": [
    "from gensim.models import word2vec\n",
    "print(\"training model..\")\n",
    "model=word2vec.Word2Vec(sentences,workers=num_workers,size=num_features,\n",
    "                        min_count=min_word_count,window=context,sample=downsampling)"
   ]
  },
  {
   "cell_type": "code",
   "execution_count": 27,
   "metadata": {
    "scrolled": true
   },
   "outputs": [
    {
     "name": "stderr",
     "output_type": "stream",
     "text": [
      "2018-01-11 07:37:21,331 : INFO : precomputing L2-norms of word weight vectors\n",
      "2018-01-11 07:37:21,516 : INFO : saving Word2Vec object under 300features_40minwords_10context, separately None\n",
      "2018-01-11 07:37:21,517 : INFO : not storing attribute syn0norm\n",
      "2018-01-11 07:37:21,518 : INFO : not storing attribute cum_table\n",
      "2018-01-11 07:37:23,583 : INFO : saved 300features_40minwords_10context\n"
     ]
    }
   ],
   "source": [
    "# If you don't plan to train the model any further, calling \n",
    "# init_sims will make the model much more memory-efficient.\n",
    "model.init_sims(replace=True)\n",
    "\n",
    "# It can be helpful to create a meaningful model name and \n",
    "# save the model for later use. You can load it later using Word2Vec.load()\n",
    "model_name = \"300features_40minwords_10context\"\n",
    "model.save(model_name)"
   ]
  },
  {
   "cell_type": "code",
   "execution_count": 28,
   "metadata": {
    "scrolled": true
   },
   "outputs": [
    {
     "name": "stderr",
     "output_type": "stream",
     "text": [
      "/home/saloni/anaconda3/lib/python3.6/site-packages/ipykernel_launcher.py:1: DeprecationWarning: Call to deprecated `most_similar` (Method will be removed in 4.0.0, use self.wv.most_similar() instead).\n",
      "  \"\"\"Entry point for launching an IPython kernel.\n"
     ]
    },
    {
     "data": {
      "text/plain": [
       "[('decent', 0.6780563592910767),\n",
       " ('bad', 0.6295445561408997),\n",
       " ('great', 0.6052792072296143),\n",
       " ('nice', 0.5935851335525513),\n",
       " ('lousy', 0.5736414790153503),\n",
       " ('cool', 0.5626237988471985),\n",
       " ('mediocre', 0.5481599569320679),\n",
       " ('fine', 0.5412446856498718),\n",
       " ('passable', 0.533780574798584),\n",
       " ('solid', 0.5323073267936707)]"
      ]
     },
     "execution_count": 28,
     "metadata": {},
     "output_type": "execute_result"
    }
   ],
   "source": [
    "model.most_similar(\"good\")"
   ]
  },
  {
   "cell_type": "code",
   "execution_count": 30,
   "metadata": {
    "scrolled": true
   },
   "outputs": [
    {
     "name": "stderr",
     "output_type": "stream",
     "text": [
      "/home/saloni/anaconda3/lib/python3.6/site-packages/ipykernel_launcher.py:1: DeprecationWarning: Call to deprecated `doesnt_match` (Method will be removed in 4.0.0, use self.wv.doesnt_match() instead).\n",
      "  \"\"\"Entry point for launching an IPython kernel.\n"
     ]
    },
    {
     "data": {
      "text/plain": [
       "'kitchen'"
      ]
     },
     "execution_count": 30,
     "metadata": {},
     "output_type": "execute_result"
    }
   ],
   "source": [
    "model.doesnt_match(\"man woman child kitchen\".split())"
   ]
  },
  {
   "cell_type": "code",
   "execution_count": 32,
   "metadata": {},
   "outputs": [
    {
     "name": "stderr",
     "output_type": "stream",
     "text": [
      "/home/saloni/anaconda3/lib/python3.6/site-packages/ipykernel_launcher.py:1: DeprecationWarning: Call to deprecated `most_similar` (Method will be removed in 4.0.0, use self.wv.most_similar() instead).\n",
      "  \"\"\"Entry point for launching an IPython kernel.\n"
     ]
    },
    {
     "data": {
      "text/plain": [
       "[('dull', 0.8046208620071411),\n",
       " ('tedious', 0.7967912554740906),\n",
       " ('pointless', 0.7260136604309082),\n",
       " ('uninteresting', 0.685673713684082),\n",
       " ('repetitive', 0.6551077365875244),\n",
       " ('confusing', 0.6518893241882324),\n",
       " ('tiresome', 0.6437580585479736),\n",
       " ('predictable', 0.6389776468276978),\n",
       " ('bland', 0.6065695285797119),\n",
       " ('tiring', 0.6009296178817749)]"
      ]
     },
     "execution_count": 32,
     "metadata": {},
     "output_type": "execute_result"
    }
   ],
   "source": [
    "model.most_similar(\"boring\")"
   ]
  },
  {
   "cell_type": "code",
   "execution_count": null,
   "metadata": {
    "collapsed": true
   },
   "outputs": [],
   "source": []
  }
 ],
 "metadata": {
  "kernelspec": {
   "display_name": "Python 3",
   "language": "python",
   "name": "python3"
  },
  "language_info": {
   "codemirror_mode": {
    "name": "ipython",
    "version": 3
   },
   "file_extension": ".py",
   "mimetype": "text/x-python",
   "name": "python",
   "nbconvert_exporter": "python",
   "pygments_lexer": "ipython3",
   "version": "3.6.2"
  }
 },
 "nbformat": 4,
 "nbformat_minor": 2
}
